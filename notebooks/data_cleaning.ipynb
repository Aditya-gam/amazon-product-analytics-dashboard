{
 "cells": [
  {
   "cell_type": "markdown",
   "metadata": {},
   "source": [
    "# Data Cleaning Notebook for Amazon E-Commerce Product Dataset"
   ]
  },
  {
   "cell_type": "markdown",
   "metadata": {},
   "source": [
    "## Importing Necessary Libraries"
   ]
  },
  {
   "cell_type": "code",
   "execution_count": 1,
   "metadata": {},
   "outputs": [],
   "source": [
    "import pandas as pd\n",
    "import numpy as np\n",
    "import os"
   ]
  },
  {
   "cell_type": "code",
   "execution_count": 2,
   "metadata": {},
   "outputs": [],
   "source": [
    "# Load the raw dataset\n",
    "data_path = \"../data/raw/Amazon-Products.csv\"  # Adjust the file name/path if different\n",
    "df = pd.read_csv(data_path)"
   ]
  },
  {
   "cell_type": "code",
   "execution_count": 3,
   "metadata": {},
   "outputs": [
    {
     "name": "stdout",
     "output_type": "stream",
     "text": [
      "Initial Dataset Preview:\n"
     ]
    },
    {
     "data": {
      "text/html": [
       "<div>\n",
       "<style scoped>\n",
       "    .dataframe tbody tr th:only-of-type {\n",
       "        vertical-align: middle;\n",
       "    }\n",
       "\n",
       "    .dataframe tbody tr th {\n",
       "        vertical-align: top;\n",
       "    }\n",
       "\n",
       "    .dataframe thead th {\n",
       "        text-align: right;\n",
       "    }\n",
       "</style>\n",
       "<table border=\"1\" class=\"dataframe\">\n",
       "  <thead>\n",
       "    <tr style=\"text-align: right;\">\n",
       "      <th></th>\n",
       "      <th>Unnamed: 0</th>\n",
       "      <th>name</th>\n",
       "      <th>main_category</th>\n",
       "      <th>sub_category</th>\n",
       "      <th>image</th>\n",
       "      <th>link</th>\n",
       "      <th>ratings</th>\n",
       "      <th>no_of_ratings</th>\n",
       "      <th>discount_price</th>\n",
       "      <th>actual_price</th>\n",
       "    </tr>\n",
       "  </thead>\n",
       "  <tbody>\n",
       "    <tr>\n",
       "      <th>0</th>\n",
       "      <td>0</td>\n",
       "      <td>Lloyd 1.5 Ton 3 Star Inverter Split Ac (5 In 1...</td>\n",
       "      <td>appliances</td>\n",
       "      <td>Air Conditioners</td>\n",
       "      <td>https://m.media-amazon.com/images/I/31UISB90sY...</td>\n",
       "      <td>https://www.amazon.in/Lloyd-Inverter-Convertib...</td>\n",
       "      <td>4.2</td>\n",
       "      <td>2,255</td>\n",
       "      <td>₹32,999</td>\n",
       "      <td>₹58,990</td>\n",
       "    </tr>\n",
       "    <tr>\n",
       "      <th>1</th>\n",
       "      <td>1</td>\n",
       "      <td>LG 1.5 Ton 5 Star AI DUAL Inverter Split AC (C...</td>\n",
       "      <td>appliances</td>\n",
       "      <td>Air Conditioners</td>\n",
       "      <td>https://m.media-amazon.com/images/I/51JFb7FctD...</td>\n",
       "      <td>https://www.amazon.in/LG-Convertible-Anti-Viru...</td>\n",
       "      <td>4.2</td>\n",
       "      <td>2,948</td>\n",
       "      <td>₹46,490</td>\n",
       "      <td>₹75,990</td>\n",
       "    </tr>\n",
       "    <tr>\n",
       "      <th>2</th>\n",
       "      <td>2</td>\n",
       "      <td>LG 1 Ton 4 Star Ai Dual Inverter Split Ac (Cop...</td>\n",
       "      <td>appliances</td>\n",
       "      <td>Air Conditioners</td>\n",
       "      <td>https://m.media-amazon.com/images/I/51JFb7FctD...</td>\n",
       "      <td>https://www.amazon.in/LG-Inverter-Convertible-...</td>\n",
       "      <td>4.2</td>\n",
       "      <td>1,206</td>\n",
       "      <td>₹34,490</td>\n",
       "      <td>₹61,990</td>\n",
       "    </tr>\n",
       "    <tr>\n",
       "      <th>3</th>\n",
       "      <td>3</td>\n",
       "      <td>LG 1.5 Ton 3 Star AI DUAL Inverter Split AC (C...</td>\n",
       "      <td>appliances</td>\n",
       "      <td>Air Conditioners</td>\n",
       "      <td>https://m.media-amazon.com/images/I/51JFb7FctD...</td>\n",
       "      <td>https://www.amazon.in/LG-Convertible-Anti-Viru...</td>\n",
       "      <td>4.0</td>\n",
       "      <td>69</td>\n",
       "      <td>₹37,990</td>\n",
       "      <td>₹68,990</td>\n",
       "    </tr>\n",
       "    <tr>\n",
       "      <th>4</th>\n",
       "      <td>4</td>\n",
       "      <td>Carrier 1.5 Ton 3 Star Inverter Split AC (Copp...</td>\n",
       "      <td>appliances</td>\n",
       "      <td>Air Conditioners</td>\n",
       "      <td>https://m.media-amazon.com/images/I/41lrtqXPiW...</td>\n",
       "      <td>https://www.amazon.in/Carrier-Inverter-Split-C...</td>\n",
       "      <td>4.1</td>\n",
       "      <td>630</td>\n",
       "      <td>₹34,490</td>\n",
       "      <td>₹67,790</td>\n",
       "    </tr>\n",
       "  </tbody>\n",
       "</table>\n",
       "</div>"
      ],
      "text/plain": [
       "   Unnamed: 0                                               name  \\\n",
       "0           0  Lloyd 1.5 Ton 3 Star Inverter Split Ac (5 In 1...   \n",
       "1           1  LG 1.5 Ton 5 Star AI DUAL Inverter Split AC (C...   \n",
       "2           2  LG 1 Ton 4 Star Ai Dual Inverter Split Ac (Cop...   \n",
       "3           3  LG 1.5 Ton 3 Star AI DUAL Inverter Split AC (C...   \n",
       "4           4  Carrier 1.5 Ton 3 Star Inverter Split AC (Copp...   \n",
       "\n",
       "  main_category      sub_category  \\\n",
       "0    appliances  Air Conditioners   \n",
       "1    appliances  Air Conditioners   \n",
       "2    appliances  Air Conditioners   \n",
       "3    appliances  Air Conditioners   \n",
       "4    appliances  Air Conditioners   \n",
       "\n",
       "                                               image  \\\n",
       "0  https://m.media-amazon.com/images/I/31UISB90sY...   \n",
       "1  https://m.media-amazon.com/images/I/51JFb7FctD...   \n",
       "2  https://m.media-amazon.com/images/I/51JFb7FctD...   \n",
       "3  https://m.media-amazon.com/images/I/51JFb7FctD...   \n",
       "4  https://m.media-amazon.com/images/I/41lrtqXPiW...   \n",
       "\n",
       "                                                link ratings no_of_ratings  \\\n",
       "0  https://www.amazon.in/Lloyd-Inverter-Convertib...     4.2         2,255   \n",
       "1  https://www.amazon.in/LG-Convertible-Anti-Viru...     4.2         2,948   \n",
       "2  https://www.amazon.in/LG-Inverter-Convertible-...     4.2         1,206   \n",
       "3  https://www.amazon.in/LG-Convertible-Anti-Viru...     4.0            69   \n",
       "4  https://www.amazon.in/Carrier-Inverter-Split-C...     4.1           630   \n",
       "\n",
       "  discount_price actual_price  \n",
       "0        ₹32,999      ₹58,990  \n",
       "1        ₹46,490      ₹75,990  \n",
       "2        ₹34,490      ₹61,990  \n",
       "3        ₹37,990      ₹68,990  \n",
       "4        ₹34,490      ₹67,790  "
      ]
     },
     "metadata": {},
     "output_type": "display_data"
    },
    {
     "name": "stdout",
     "output_type": "stream",
     "text": [
      "\n",
      "Dataset Info:\n",
      "<class 'pandas.core.frame.DataFrame'>\n",
      "RangeIndex: 551585 entries, 0 to 551584\n",
      "Data columns (total 10 columns):\n",
      " #   Column          Non-Null Count   Dtype \n",
      "---  ------          --------------   ----- \n",
      " 0   Unnamed: 0      551585 non-null  int64 \n",
      " 1   name            551585 non-null  object\n",
      " 2   main_category   551585 non-null  object\n",
      " 3   sub_category    551585 non-null  object\n",
      " 4   image           551585 non-null  object\n",
      " 5   link            551585 non-null  object\n",
      " 6   ratings         375791 non-null  object\n",
      " 7   no_of_ratings   375791 non-null  object\n",
      " 8   discount_price  490422 non-null  object\n",
      " 9   actual_price    533772 non-null  object\n",
      "dtypes: int64(1), object(9)\n",
      "memory usage: 42.1+ MB\n",
      "\n",
      "Dataset Description:\n",
      "          Unnamed: 0\n",
      "count  551585.000000\n",
      "mean     7006.200471\n",
      "std      5740.835523\n",
      "min         0.000000\n",
      "25%      1550.000000\n",
      "50%      5933.000000\n",
      "75%     11482.000000\n",
      "max     19199.000000\n",
      "\n",
      "Summary of Missing Values:\n",
      "Unnamed: 0             0\n",
      "name                   0\n",
      "main_category          0\n",
      "sub_category           0\n",
      "image                  0\n",
      "link                   0\n",
      "ratings           175794\n",
      "no_of_ratings     175794\n",
      "discount_price     61163\n",
      "actual_price       17813\n",
      "dtype: int64\n",
      "\n",
      "Summary of Duplicates:\n",
      "0\n",
      "\n",
      "Summary of Unique Values:\n",
      "Unnamed: 0         19200\n",
      "name              396210\n",
      "main_category         20\n",
      "sub_category         112\n",
      "image             462414\n",
      "link              551585\n",
      "ratings               49\n",
      "no_of_ratings       8342\n",
      "discount_price     27511\n",
      "actual_price       23170\n",
      "dtype: int64\n",
      "\n",
      "Summary of Data Types:\n",
      "Unnamed: 0         int64\n",
      "name              object\n",
      "main_category     object\n",
      "sub_category      object\n",
      "image             object\n",
      "link              object\n",
      "ratings           object\n",
      "no_of_ratings     object\n",
      "discount_price    object\n",
      "actual_price      object\n",
      "dtype: object\n"
     ]
    }
   ],
   "source": [
    "# Display the first few rows and a summary of the data\n",
    "print(\"Initial Dataset Preview:\")\n",
    "display(df.head())\n",
    "print(\"\\nDataset Info:\")\n",
    "df.info()\n",
    "print(\"\\nDataset Description:\")\n",
    "print(df.describe())\n",
    "print(\"\\nSummary of Missing Values:\")\n",
    "print(df.isnull().sum())\n",
    "print(\"\\nSummary of Duplicates:\")\n",
    "print(df.duplicated().sum())\n",
    "print(\"\\nSummary of Unique Values:\")\n",
    "print(df.nunique())\n",
    "print(\"\\nSummary of Data Types:\")\n",
    "print(df.dtypes)"
   ]
  },
  {
   "cell_type": "markdown",
   "metadata": {},
   "source": [
    "## Handling Missing Values"
   ]
  },
  {
   "cell_type": "markdown",
   "metadata": {},
   "source": [
    "### Ratings and No_of_Ratings Columns"
   ]
  },
  {
   "cell_type": "code",
   "execution_count": 4,
   "metadata": {},
   "outputs": [],
   "source": [
    "# Fill missing and invalid values in 'ratings' and 'no_of_ratings' columns\n",
    "def handle_ratings(row):\n",
    "    try:\n",
    "        # Attempt to convert ratings to float\n",
    "        row['ratings'] = float(row['ratings']) if not pd.isnull(row['ratings']) else 0.0\n",
    "    except (ValueError, TypeError):\n",
    "        row['ratings'] = 0.0  # Set to 0 if conversion fails\n",
    "\n",
    "    try:\n",
    "        # Attempt to convert no_of_ratings to int\n",
    "        row['no_of_ratings'] = int(row['no_of_ratings'].replace(',', '')) if not pd.isnull(row['no_of_ratings']) else 0\n",
    "    except (ValueError, TypeError, AttributeError):\n",
    "        row['no_of_ratings'] = 0  # Set to 0 if conversion fails\n",
    "\n",
    "    # Handle cases where one column has value but the other is missing\n",
    "    if pd.isnull(row['ratings']) or pd.isnull(row['no_of_ratings']):\n",
    "        row['ratings'] = 0.0\n",
    "        row['no_of_ratings'] = 0\n",
    "\n",
    "    return row\n",
    "\n",
    "# Apply the function to handle ratings and no_of_ratings\n",
    "df = df.apply(handle_ratings, axis=1)"
   ]
  },
  {
   "cell_type": "code",
   "execution_count": 5,
   "metadata": {},
   "outputs": [],
   "source": [
    "# Ensure data types are consistent\n",
    "df['ratings'] = df['ratings'].astype(float)\n",
    "df['no_of_ratings'] = df['no_of_ratings'].astype(int)"
   ]
  },
  {
   "cell_type": "markdown",
   "metadata": {},
   "source": [
    "### Actual Price and Discounted Price Columns"
   ]
  },
  {
   "cell_type": "code",
   "execution_count": 6,
   "metadata": {},
   "outputs": [],
   "source": [
    "# Ensure both columns contain only numerical data and convert to float\n",
    "def clean_price_column(price):\n",
    "    if isinstance(price, str):\n",
    "        return float(price.replace('₹', '').replace(',', '').strip())\n",
    "    elif pd.isnull(price):\n",
    "        return np.nan\n",
    "    else:\n",
    "        return float(price)\n",
    "    \n",
    "df['discount_price'] = df['discount_price'].apply(clean_price_column)\n",
    "df['actual_price'] = df['actual_price'].apply(clean_price_column)"
   ]
  },
  {
   "cell_type": "code",
   "execution_count": 7,
   "metadata": {},
   "outputs": [],
   "source": [
    "# Handle missing values in 'discount_price' and 'actual_price' columns\n",
    "def handle_prices(row):\n",
    "    if pd.isnull(row['discount_price']) and pd.isnull(row['actual_price']):\n",
    "        return None  # Mark for dropping\n",
    "    elif pd.isnull(row['discount_price']):\n",
    "        row['discount_price'] = row['actual_price']\n",
    "    elif pd.isnull(row['actual_price']):\n",
    "        row['actual_price'] = row['discount_price']\n",
    "\n",
    "    if row['discount_price'] > row['actual_price']:\n",
    "        # Swap values if discount price is greater than actual price\n",
    "        row['discount_price'], row['actual_price'] = row['actual_price'], row['discount_price']\n",
    "\n",
    "    if row['actual_price'] == 0:\n",
    "        row['discount_price'], row['actual_price'] = 0.0001, 0.0001  # Set to a small value to avoid division by zero\n",
    "\n",
    "    return row\n",
    "\n",
    "df = df.apply(handle_prices, axis=1)"
   ]
  },
  {
   "cell_type": "code",
   "execution_count": 8,
   "metadata": {},
   "outputs": [],
   "source": [
    "# Drop rows where both prices were missing\n",
    "df.dropna(subset=['discount_price', 'actual_price'], inplace=True)\n",
    "\n",
    "# Ensure data types are consistent\n",
    "df['discount_price'] = df['discount_price'].astype(float)\n",
    "df['actual_price'] = df['actual_price'].astype(float)"
   ]
  },
  {
   "cell_type": "code",
   "execution_count": 9,
   "metadata": {},
   "outputs": [
    {
     "name": "stdout",
     "output_type": "stream",
     "text": [
      "\n",
      "Updated Dataset Info:\n",
      "<class 'pandas.core.frame.DataFrame'>\n",
      "Index: 533772 entries, 0 to 551584\n",
      "Data columns (total 10 columns):\n",
      " #   Column          Non-Null Count   Dtype  \n",
      "---  ------          --------------   -----  \n",
      " 0   Unnamed: 0      533772 non-null  float64\n",
      " 1   name            533772 non-null  object \n",
      " 2   main_category   533772 non-null  object \n",
      " 3   sub_category    533772 non-null  object \n",
      " 4   image           533772 non-null  object \n",
      " 5   link            533772 non-null  object \n",
      " 6   ratings         533772 non-null  float64\n",
      " 7   no_of_ratings   533772 non-null  float64\n",
      " 8   discount_price  533772 non-null  float64\n",
      " 9   actual_price    533772 non-null  float64\n",
      "dtypes: float64(5), object(5)\n",
      "memory usage: 44.8+ MB\n"
     ]
    }
   ],
   "source": [
    "# Display updated information\n",
    "print(\"\\nUpdated Dataset Info:\")\n",
    "df.info()"
   ]
  },
  {
   "cell_type": "markdown",
   "metadata": {},
   "source": [
    "## Remove Duplicates"
   ]
  },
  {
   "cell_type": "code",
   "execution_count": 10,
   "metadata": {},
   "outputs": [],
   "source": [
    "df = df.drop_duplicates()"
   ]
  },
  {
   "cell_type": "markdown",
   "metadata": {},
   "source": [
    "## Create New Features"
   ]
  },
  {
   "cell_type": "code",
   "execution_count": 11,
   "metadata": {},
   "outputs": [],
   "source": [
    "# Calculate discount_percentage\n",
    "df['discount_percentage'] = ((df['actual_price'] - df['discount_price']) / df['actual_price']) * 100\n",
    "\n",
    "# Create a feature for price difference\n",
    "df['price_difference'] = df['actual_price'] - df['discount_price']\n",
    "\n",
    "# Categorize products based on discount ranges\n",
    "def categorize_discount(discount):\n",
    "    if discount >= 50:\n",
    "        return 'High Discount'\n",
    "    elif discount >= 20:\n",
    "        return 'Medium Discount'\n",
    "    else:\n",
    "        return 'Low Discount'\n",
    "\n",
    "df['discount_category'] = df['discount_percentage'].apply(categorize_discount)"
   ]
  },
  {
   "cell_type": "markdown",
   "metadata": {},
   "source": [
    "## Standardizing Text Columns"
   ]
  },
  {
   "cell_type": "code",
   "execution_count": 12,
   "metadata": {},
   "outputs": [],
   "source": [
    "def clean_text(text):\n",
    "    return text.lower().strip()\n",
    "\n",
    "df['name'] = df['name'].apply(clean_text)\n",
    "df['main_category'] = df['main_category'].apply(clean_text)\n",
    "df['sub_category'] = df['sub_category'].apply(clean_text)"
   ]
  },
  {
   "cell_type": "markdown",
   "metadata": {},
   "source": [
    "## Analyzing Ratings"
   ]
  },
  {
   "cell_type": "code",
   "execution_count": 13,
   "metadata": {},
   "outputs": [],
   "source": [
    "# Create a feature to classify products as highly-rated or low-rated\n",
    "def classify_rating(rating):\n",
    "    if rating >= 4.0:\n",
    "        return 'Highly Rated'\n",
    "    elif rating >= 2.5:\n",
    "        return 'Moderately Rated'\n",
    "    elif rating < 2.5:\n",
    "        return 'Low Rated'\n",
    "    else: # Handle missing values\n",
    "        return 'Unrated'\n",
    "\n",
    "df['rating_category'] = df['ratings'].apply(classify_rating)"
   ]
  },
  {
   "cell_type": "markdown",
   "metadata": {},
   "source": [
    "## Verifying and Saving the Cleaned Data"
   ]
  },
  {
   "cell_type": "code",
   "execution_count": 14,
   "metadata": {},
   "outputs": [
    {
     "name": "stdout",
     "output_type": "stream",
     "text": [
      "\n",
      "Cleaned Dataset Info:\n",
      "<class 'pandas.core.frame.DataFrame'>\n",
      "Index: 533772 entries, 0 to 551584\n",
      "Data columns (total 14 columns):\n",
      " #   Column               Non-Null Count   Dtype  \n",
      "---  ------               --------------   -----  \n",
      " 0   Unnamed: 0           533772 non-null  float64\n",
      " 1   name                 533772 non-null  object \n",
      " 2   main_category        533772 non-null  object \n",
      " 3   sub_category         533772 non-null  object \n",
      " 4   image                533772 non-null  object \n",
      " 5   link                 533772 non-null  object \n",
      " 6   ratings              533772 non-null  float64\n",
      " 7   no_of_ratings        533772 non-null  float64\n",
      " 8   discount_price       533772 non-null  float64\n",
      " 9   actual_price         533772 non-null  float64\n",
      " 10  discount_percentage  533772 non-null  float64\n",
      " 11  price_difference     533772 non-null  float64\n",
      " 12  discount_category    533772 non-null  object \n",
      " 13  rating_category      533772 non-null  object \n",
      "dtypes: float64(7), object(7)\n",
      "memory usage: 61.1+ MB\n"
     ]
    }
   ],
   "source": [
    "print(\"\\nCleaned Dataset Info:\")\n",
    "df.info()"
   ]
  },
  {
   "cell_type": "code",
   "execution_count": 15,
   "metadata": {},
   "outputs": [
    {
     "name": "stdout",
     "output_type": "stream",
     "text": [
      "\n",
      "Cleaned Dataset Description:\n"
     ]
    },
    {
     "data": {
      "text/html": [
       "<div>\n",
       "<style scoped>\n",
       "    .dataframe tbody tr th:only-of-type {\n",
       "        vertical-align: middle;\n",
       "    }\n",
       "\n",
       "    .dataframe tbody tr th {\n",
       "        vertical-align: top;\n",
       "    }\n",
       "\n",
       "    .dataframe thead th {\n",
       "        text-align: right;\n",
       "    }\n",
       "</style>\n",
       "<table border=\"1\" class=\"dataframe\">\n",
       "  <thead>\n",
       "    <tr style=\"text-align: right;\">\n",
       "      <th></th>\n",
       "      <th>Unnamed: 0</th>\n",
       "      <th>ratings</th>\n",
       "      <th>no_of_ratings</th>\n",
       "      <th>discount_price</th>\n",
       "      <th>actual_price</th>\n",
       "      <th>discount_percentage</th>\n",
       "      <th>price_difference</th>\n",
       "    </tr>\n",
       "  </thead>\n",
       "  <tbody>\n",
       "    <tr>\n",
       "      <th>count</th>\n",
       "      <td>533772.000000</td>\n",
       "      <td>533772.000000</td>\n",
       "      <td>533772.000000</td>\n",
       "      <td>5.337720e+05</td>\n",
       "      <td>5.337720e+05</td>\n",
       "      <td>533772.000000</td>\n",
       "      <td>5.337720e+05</td>\n",
       "    </tr>\n",
       "    <tr>\n",
       "      <th>mean</th>\n",
       "      <td>6986.472203</td>\n",
       "      <td>2.604223</td>\n",
       "      <td>567.528729</td>\n",
       "      <td>2.872724e+03</td>\n",
       "      <td>2.311128e+04</td>\n",
       "      <td>45.256477</td>\n",
       "      <td>2.023856e+04</td>\n",
       "    </tr>\n",
       "    <tr>\n",
       "      <th>std</th>\n",
       "      <td>5733.785479</td>\n",
       "      <td>1.892872</td>\n",
       "      <td>7108.018146</td>\n",
       "      <td>9.565776e+03</td>\n",
       "      <td>1.355082e+07</td>\n",
       "      <td>24.531764</td>\n",
       "      <td>1.355082e+07</td>\n",
       "    </tr>\n",
       "    <tr>\n",
       "      <th>min</th>\n",
       "      <td>0.000000</td>\n",
       "      <td>0.000000</td>\n",
       "      <td>0.000000</td>\n",
       "      <td>1.000000e-04</td>\n",
       "      <td>1.000000e-04</td>\n",
       "      <td>0.000000</td>\n",
       "      <td>0.000000e+00</td>\n",
       "    </tr>\n",
       "    <tr>\n",
       "      <th>25%</th>\n",
       "      <td>1544.000000</td>\n",
       "      <td>0.000000</td>\n",
       "      <td>0.000000</td>\n",
       "      <td>3.990000e+02</td>\n",
       "      <td>9.900000e+02</td>\n",
       "      <td>28.578233</td>\n",
       "      <td>3.000000e+02</td>\n",
       "    </tr>\n",
       "    <tr>\n",
       "      <th>50%</th>\n",
       "      <td>5913.000000</td>\n",
       "      <td>3.500000</td>\n",
       "      <td>5.000000</td>\n",
       "      <td>6.990000e+02</td>\n",
       "      <td>1.599000e+03</td>\n",
       "      <td>50.012503</td>\n",
       "      <td>7.000000e+02</td>\n",
       "    </tr>\n",
       "    <tr>\n",
       "      <th>75%</th>\n",
       "      <td>11452.000000</td>\n",
       "      <td>4.100000</td>\n",
       "      <td>51.000000</td>\n",
       "      <td>1.549000e+03</td>\n",
       "      <td>2.999000e+03</td>\n",
       "      <td>64.580726</td>\n",
       "      <td>1.548000e+03</td>\n",
       "    </tr>\n",
       "    <tr>\n",
       "      <th>max</th>\n",
       "      <td>19199.000000</td>\n",
       "      <td>5.000000</td>\n",
       "      <td>589547.000000</td>\n",
       "      <td>1.249990e+06</td>\n",
       "      <td>9.900000e+09</td>\n",
       "      <td>99.999994</td>\n",
       "      <td>9.899999e+09</td>\n",
       "    </tr>\n",
       "  </tbody>\n",
       "</table>\n",
       "</div>"
      ],
      "text/plain": [
       "          Unnamed: 0        ratings  no_of_ratings  discount_price  \\\n",
       "count  533772.000000  533772.000000  533772.000000    5.337720e+05   \n",
       "mean     6986.472203       2.604223     567.528729    2.872724e+03   \n",
       "std      5733.785479       1.892872    7108.018146    9.565776e+03   \n",
       "min         0.000000       0.000000       0.000000    1.000000e-04   \n",
       "25%      1544.000000       0.000000       0.000000    3.990000e+02   \n",
       "50%      5913.000000       3.500000       5.000000    6.990000e+02   \n",
       "75%     11452.000000       4.100000      51.000000    1.549000e+03   \n",
       "max     19199.000000       5.000000  589547.000000    1.249990e+06   \n",
       "\n",
       "       actual_price  discount_percentage  price_difference  \n",
       "count  5.337720e+05        533772.000000      5.337720e+05  \n",
       "mean   2.311128e+04            45.256477      2.023856e+04  \n",
       "std    1.355082e+07            24.531764      1.355082e+07  \n",
       "min    1.000000e-04             0.000000      0.000000e+00  \n",
       "25%    9.900000e+02            28.578233      3.000000e+02  \n",
       "50%    1.599000e+03            50.012503      7.000000e+02  \n",
       "75%    2.999000e+03            64.580726      1.548000e+03  \n",
       "max    9.900000e+09            99.999994      9.899999e+09  "
      ]
     },
     "execution_count": 15,
     "metadata": {},
     "output_type": "execute_result"
    }
   ],
   "source": [
    "print(\"\\nCleaned Dataset Description:\")\n",
    "df.describe()"
   ]
  },
  {
   "cell_type": "code",
   "execution_count": 16,
   "metadata": {},
   "outputs": [
    {
     "name": "stdout",
     "output_type": "stream",
     "text": [
      "\n",
      "Summary of Missing Values:\n"
     ]
    },
    {
     "data": {
      "text/plain": [
       "Unnamed: 0             0\n",
       "name                   0\n",
       "main_category          0\n",
       "sub_category           0\n",
       "image                  0\n",
       "link                   0\n",
       "ratings                0\n",
       "no_of_ratings          0\n",
       "discount_price         0\n",
       "actual_price           0\n",
       "discount_percentage    0\n",
       "price_difference       0\n",
       "discount_category      0\n",
       "rating_category        0\n",
       "dtype: int64"
      ]
     },
     "execution_count": 16,
     "metadata": {},
     "output_type": "execute_result"
    }
   ],
   "source": [
    "print(\"\\nSummary of Missing Values:\")\n",
    "df.isnull().sum()"
   ]
  },
  {
   "cell_type": "code",
   "execution_count": 17,
   "metadata": {},
   "outputs": [
    {
     "name": "stdout",
     "output_type": "stream",
     "text": [
      "\n",
      "Summary of Duplicates:\n"
     ]
    },
    {
     "data": {
      "text/plain": [
       "np.int64(0)"
      ]
     },
     "execution_count": 17,
     "metadata": {},
     "output_type": "execute_result"
    }
   ],
   "source": [
    "print(\"\\nSummary of Duplicates:\")\n",
    "df.duplicated().sum()"
   ]
  },
  {
   "cell_type": "code",
   "execution_count": 18,
   "metadata": {},
   "outputs": [
    {
     "name": "stdout",
     "output_type": "stream",
     "text": [
      "\n",
      "Summary of Unique Values:\n"
     ]
    },
    {
     "data": {
      "text/plain": [
       "Unnamed: 0              19200\n",
       "name                   383823\n",
       "main_category              20\n",
       "sub_category              112\n",
       "image                  449207\n",
       "link                   533772\n",
       "ratings                    42\n",
       "no_of_ratings            8191\n",
       "discount_price          31045\n",
       "actual_price            23170\n",
       "discount_percentage    102256\n",
       "price_difference        22836\n",
       "discount_category           3\n",
       "rating_category             3\n",
       "dtype: int64"
      ]
     },
     "execution_count": 18,
     "metadata": {},
     "output_type": "execute_result"
    }
   ],
   "source": [
    "print(\"\\nSummary of Unique Values:\")\n",
    "df.nunique()"
   ]
  },
  {
   "cell_type": "code",
   "execution_count": 19,
   "metadata": {},
   "outputs": [
    {
     "name": "stdout",
     "output_type": "stream",
     "text": [
      "\n",
      "Summary of Data Types:\n"
     ]
    },
    {
     "data": {
      "text/plain": [
       "Unnamed: 0             float64\n",
       "name                    object\n",
       "main_category           object\n",
       "sub_category            object\n",
       "image                   object\n",
       "link                    object\n",
       "ratings                float64\n",
       "no_of_ratings          float64\n",
       "discount_price         float64\n",
       "actual_price           float64\n",
       "discount_percentage    float64\n",
       "price_difference       float64\n",
       "discount_category       object\n",
       "rating_category         object\n",
       "dtype: object"
      ]
     },
     "execution_count": 19,
     "metadata": {},
     "output_type": "execute_result"
    }
   ],
   "source": [
    "print(\"\\nSummary of Data Types:\")\n",
    "df.dtypes"
   ]
  },
  {
   "cell_type": "code",
   "execution_count": 20,
   "metadata": {},
   "outputs": [
    {
     "name": "stdout",
     "output_type": "stream",
     "text": [
      "Cleaned data saved to ../data/processed/cleaned_amazon_products.csv\n"
     ]
    }
   ],
   "source": [
    "# Save the cleaned data to the processed folder\n",
    "processed_data_path = \"../data/processed/cleaned_amazon_products.csv\"\n",
    "df.to_csv(processed_data_path, index=False)\n",
    "print(f\"Cleaned data saved to {processed_data_path}\")\n"
   ]
  },
  {
   "cell_type": "code",
   "execution_count": null,
   "metadata": {},
   "outputs": [],
   "source": []
  }
 ],
 "metadata": {
  "kernelspec": {
   "display_name": "venv",
   "language": "python",
   "name": "python3"
  },
  "language_info": {
   "codemirror_mode": {
    "name": "ipython",
    "version": 3
   },
   "file_extension": ".py",
   "mimetype": "text/x-python",
   "name": "python",
   "nbconvert_exporter": "python",
   "pygments_lexer": "ipython3",
   "version": "3.11.5"
  },
  "orig_nbformat": 4
 },
 "nbformat": 4,
 "nbformat_minor": 2
}
